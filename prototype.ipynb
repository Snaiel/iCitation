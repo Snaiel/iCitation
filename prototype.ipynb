{
 "cells": [
  {
   "cell_type": "code",
   "execution_count": 2,
   "metadata": {},
   "outputs": [],
   "source": [
    "from bibtexparser import parse_file\n",
    "from langchain.document_loaders import WebBaseLoader\n",
    "from langchain.text_splitter import RecursiveCharacterTextSplitter\n",
    "from langchain.vectorstores.milvus import Milvus\n",
    "from langchain.embeddings.huggingface import HuggingFaceEmbeddings"
   ]
  },
  {
   "cell_type": "code",
   "execution_count": 4,
   "metadata": {},
   "outputs": [
    {
     "data": {
      "text/plain": [
       "['https://www.pinecone.io/learn/vector-database',\n",
       " 'https://codelabs.milvus.io/vector-database-101-what-is-a-vector-database/#0',\n",
       " 'https://codelabs.milvus.io/vector-database-101-introduction-to-unstructured-data/#0',\n",
       " 'https://learn.microsoft.com/en-us/semantic-kernel/memories/vector-db',\n",
       " 'https://zilliz.com/what-is-milvus',\n",
       " 'https://zilliz.com/comparison/milvus-vs-weaviate',\n",
       " 'https://milvus.io/docs/product_faq.md',\n",
       " 'https://milvus.io/docs/operational_faq.md',\n",
       " 'https://milvus.io/docs/benchmark.md']"
      ]
     },
     "execution_count": 4,
     "metadata": {},
     "output_type": "execute_result"
    }
   ],
   "source": [
    "sources = parse_file(\"data/sources.bib\")\n",
    "\n",
    "urls = []\n",
    "\n",
    "for entry in sources.entries:\n",
    "    urls.append(entry.fields_dict[\"url\"].value)\n",
    "\n",
    "urls"
   ]
  },
  {
   "cell_type": "code",
   "execution_count": 70,
   "metadata": {},
   "outputs": [],
   "source": [
    "loader = WebBaseLoader(web_path=urls)\n",
    "docs = loader.load()\n",
    "\n",
    "for doc in docs:\n",
    "    doc.metadata = {'metadata': doc.metadata}\n",
    "\n",
    "text_splitter = RecursiveCharacterTextSplitter(\n",
    "    separators=[\"\\n\\n\", \"\\n\", \". \", \" \"],\n",
    "    chunk_size = 200,\n",
    "    chunk_overlap = 0,\n",
    ")\n",
    "\n",
    "docs = text_splitter.split_documents(docs)"
   ]
  },
  {
   "cell_type": "code",
   "execution_count": 71,
   "metadata": {},
   "outputs": [
    {
     "name": "stderr",
     "output_type": "stream",
     "text": [
      "Batches: 100%|██████████| 15/15 [01:02<00:00,  4.15s/it]\n"
     ]
    }
   ],
   "source": [
    "embeddings = HuggingFaceEmbeddings()\n",
    "\n",
    "vector_store = Milvus.from_documents(docs, embeddings, collection_name=\"iCitation\", drop_old=True)"
   ]
  },
  {
   "cell_type": "code",
   "execution_count": 73,
   "metadata": {},
   "outputs": [
    {
     "name": "stderr",
     "output_type": "stream",
     "text": [
      "Batches:   0%|          | 0/1 [00:00<?, ?it/s]"
     ]
    },
    {
     "name": "stderr",
     "output_type": "stream",
     "text": [
      "Batches: 100%|██████████| 1/1 [00:00<00:00,  3.59it/s]"
     ]
    },
    {
     "name": "stdout",
     "output_type": "stream",
     "text": [
      "Related sources with scores (smaller means more similar):\n",
      "https://zilliz.com/comparison/milvus-vs-weaviate\n",
      "0.27 Regarding scalability, Milvus uses worker nodes for each\n",
      "type of action  (components to handle connections, data\n",
      "nodes to handle ingestion, index nodes to index, and query\n",
      "nodes to search). Each nod\n",
      "\n",
      "0.61 e has its own assigned CPU and memory resources. Milvus can\n",
      "dynamically allocate new nodes to an action group, speeding\n",
      "up operations or reducing the number of nodes, thus freeing\n",
      "resources for othe\n",
      "\n",
      "\n",
      "https://milvus.io/docs/benchmark.md\n",
      "0.58 We have recently run a benchmark against Milvus 2.2.3 and\n",
      "have the following key findings:\n",
      "\n",
      "0.61 Milvus instances (standalone or cluster) are deployed via\n",
      "Helm on a Kubernetes cluster based on physical or virtual\n",
      "machines.\n",
      "\n",
      "\n",
      "https://zilliz.com/what-is-milvus\n",
      "0.61 n various use cases. With extensive isolation of individual\n",
      "system components, Milvus is highly resilient and\n",
      "reliable.Highly ScalableMilvus's distributed and high-\n",
      "throughput nature makes it a natura\n",
      "\n",
      "\n"
     ]
    },
    {
     "name": "stderr",
     "output_type": "stream",
     "text": [
      "\n"
     ]
    }
   ],
   "source": [
    "sentence = \"Milvus dynamically allocates worker nodes to perform each type of action. This enables simpler scalability and resource management while ensuring performance.\"\n",
    "\n",
    "output = vector_store.similarity_search_with_score(sentence, 5)\n",
    "\n",
    "import json\n",
    "import textwrap\n",
    "\n",
    "print(\"Related sources with scores (smaller means more similar):\")\n",
    "\n",
    "sources = {}\n",
    "\n",
    "for doc, score in output:\n",
    "    text = doc.page_content\n",
    "    source = json.loads(doc.metadata['metadata'].decode('utf-8'))['source']\n",
    "    wrapped_text = '\\n'.join(textwrap.wrap(text, width=60))\n",
    "\n",
    "    if source in sources:\n",
    "        sources[source].append((score, wrapped_text))\n",
    "    else:\n",
    "        sources[source] = [(score, wrapped_text)]\n",
    "\n",
    "for key, val in sources.items():\n",
    "    print(key)\n",
    "    for passage in val:\n",
    "        print(f\"{passage[0]:.2f} \" + passage[1])\n",
    "        print(\"\")\n",
    "    print(\"\")\n"
   ]
  }
 ],
 "metadata": {
  "kernelspec": {
   "display_name": "Python 3",
   "language": "python",
   "name": "python3"
  },
  "language_info": {
   "codemirror_mode": {
    "name": "ipython",
    "version": 3
   },
   "file_extension": ".py",
   "mimetype": "text/x-python",
   "name": "python",
   "nbconvert_exporter": "python",
   "pygments_lexer": "ipython3",
   "version": "3.10.6"
  },
  "orig_nbformat": 4
 },
 "nbformat": 4,
 "nbformat_minor": 2
}
